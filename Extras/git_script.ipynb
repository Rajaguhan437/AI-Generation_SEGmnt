{
  "nbformat": 4,
  "nbformat_minor": 0,
  "metadata": {
    "colab": {
      "provenance": [],
      "gpuType": "T4",
      "mount_file_id": "1u1r0-kG8ipLoHpPDpGNY87mtB-CFM1g2",
      "authorship_tag": "ABX9TyM1261e+LKUnnQSwzSBuOk9",
      "include_colab_link": true
    },
    "kernelspec": {
      "name": "python3",
      "display_name": "Python 3"
    },
    "language_info": {
      "name": "python"
    }
  },
  "cells": [
    {
      "cell_type": "markdown",
      "metadata": {
        "id": "view-in-github",
        "colab_type": "text"
      },
      "source": [
        "<a href=\"https://colab.research.google.com/github/Rajaguhan437/AI-Generation_SEGmnt/blob/main/Extras/git_script.ipynb\" target=\"_parent\"><img src=\"https://colab.research.google.com/assets/colab-badge.svg\" alt=\"Open In Colab\"/></a>"
      ]
    },
    {
      "cell_type": "code",
      "execution_count": null,
      "metadata": {
        "colab": {
          "base_uri": "https://localhost:8080/"
        },
        "id": "WtxIzT4MBSJw",
        "outputId": "24163ab3-9033-4d99-da07-538a8f167d90"
      },
      "outputs": [
        {
          "output_type": "stream",
          "name": "stdout",
          "text": [
            "/content/drive/MyDrive/Colab Notebooks\n"
          ]
        }
      ],
      "source": [
        "%cd \"/content/drive/MyDrive/Colab Notebooks\""
      ]
    },
    {
      "cell_type": "code",
      "source": [
        "email = \"sparrowblack437@gmail.com\"\n",
        "name = \"Rajaguhan437\"\n",
        "token_path = \"/content/drive/MyDrive/Colab Notebooks/git_token.txt\""
      ],
      "metadata": {
        "id": "Z9gloY64YNV_"
      },
      "execution_count": null,
      "outputs": []
    },
    {
      "cell_type": "code",
      "source": [
        "token1 = !(cat \"/content/drive/MyDrive/Colab Notebooks/git_token.txt\")"
      ],
      "metadata": {
        "id": "MDDceSEJY0lY"
      },
      "execution_count": null,
      "outputs": []
    },
    {
      "cell_type": "code",
      "source": [
        "with open(token_path, 'r') as f:\n",
        "    token2 = f.read()"
      ],
      "metadata": {
        "id": "THQjD7RCZgfK"
      },
      "execution_count": null,
      "outputs": []
    },
    {
      "cell_type": "code",
      "source": [
        "!git config --global user.email $email\n",
        "!git config --global user.name $name\n",
        "\n",
        "!git config user.email\n",
        "!git config user.name"
      ],
      "metadata": {
        "colab": {
          "base_uri": "https://localhost:8080/"
        },
        "id": "ajI4qiUkFMQJ",
        "outputId": "74db3c9e-3688-46b2-8802-27e07b4c6d32"
      },
      "execution_count": null,
      "outputs": [
        {
          "output_type": "stream",
          "name": "stdout",
          "text": [
            "sparrowblack437@gmail.com\n",
            "Rajaguhan437\n"
          ]
        }
      ]
    },
    {
      "cell_type": "code",
      "source": [
        "!git clone \"https://\"$token2\"@github.com/Rajaguhan437/AI-Generation_SEGmnt.git\""
      ],
      "metadata": {
        "colab": {
          "base_uri": "https://localhost:8080/"
        },
        "id": "OniK38HZS9et",
        "outputId": "13a92bf4-77eb-42ca-e9ef-8d6372586d5d"
      },
      "execution_count": null,
      "outputs": [
        {
          "output_type": "stream",
          "name": "stdout",
          "text": [
            "fatal: destination path 'AI-Generation_SEGmnt' already exists and is not an empty directory.\n"
          ]
        }
      ]
    },
    {
      "cell_type": "code",
      "source": [
        "%cd AI-Generation_SEGmnt"
      ],
      "metadata": {
        "colab": {
          "base_uri": "https://localhost:8080/"
        },
        "id": "N0c8PfSCS_rt",
        "outputId": "8f925c53-705a-47a6-dd2f-447e19911dc7"
      },
      "execution_count": null,
      "outputs": [
        {
          "output_type": "stream",
          "name": "stdout",
          "text": [
            "/content/drive/MyDrive/Colab Notebooks/AI-Generation_SEGmnt\n"
          ]
        }
      ]
    },
    {
      "cell_type": "code",
      "source": [
        "!git status"
      ],
      "metadata": {
        "colab": {
          "base_uri": "https://localhost:8080/"
        },
        "id": "1qb-LykGTl0e",
        "outputId": "3d20836d-72a4-48fb-daef-276500aad9fe"
      },
      "execution_count": 47,
      "outputs": [
        {
          "output_type": "stream",
          "name": "stdout",
          "text": [
            "On branch main\n",
            "Your branch is up to date with 'origin/main'.\n",
            "\n",
            "Untracked files:\n",
            "  (use \"git add <file>...\" to include in what will be committed)\n",
            "\t\u001b[31mFace_Generation/Dataset/\u001b[m\n",
            "\t\u001b[31mNum_Generation/Dataset/\u001b[m\n",
            "\n",
            "nothing added to commit but untracked files present (use \"git add\" to track)\n"
          ]
        }
      ]
    },
    {
      "cell_type": "code",
      "source": [
        "!git add Num_Generation/Model/"
      ],
      "metadata": {
        "id": "132RQbFDTG75"
      },
      "execution_count": 44,
      "outputs": []
    },
    {
      "cell_type": "code",
      "source": [
        "!git commit -am \"updates\""
      ],
      "metadata": {
        "colab": {
          "base_uri": "https://localhost:8080/"
        },
        "id": "x7WjmBcvFdm6",
        "outputId": "e09f0d61-6968-4a18-9298-737238ecfe2a"
      },
      "execution_count": 45,
      "outputs": [
        {
          "output_type": "stream",
          "name": "stdout",
          "text": [
            "[main f7b0364] updates\n",
            " 10 files changed, 4 insertions(+), 163916 deletions(-)\n",
            " create mode 100644 Extras/git_script.ipynb\n",
            " create mode 100644 Extras/git_token.txt\n",
            " create mode 100644 Num_Generation/Model/Disc-NumGEN-MNIST.pkl\n",
            " create mode 100644 Num_Generation/Model/Disc-test.pkl\n",
            " create mode 100644 Num_Generation/Model/Gen-NumGEN-MNIST.pkl\n",
            " create mode 100644 Num_Generation/Model/Gen-test.pkl\n",
            " rename Num_Generation/{model_weights => Model}/NUM-Discriminator.pkl (100%)\n",
            " rename Num_Generation/{model_weights => Model}/NUM-Generator.pkl (100%)\n",
            " rewrite Num_Generation/code/Basic_GAN.ipynb (90%)\n"
          ]
        }
      ]
    },
    {
      "cell_type": "code",
      "source": [
        "!git push origin main"
      ],
      "metadata": {
        "colab": {
          "base_uri": "https://localhost:8080/"
        },
        "id": "_4p7joSfFipe",
        "outputId": "b18be3a0-7278-4b83-ccbb-3be6b1573a70"
      },
      "execution_count": 46,
      "outputs": [
        {
          "output_type": "stream",
          "name": "stdout",
          "text": [
            "Enumerating objects: 23, done.\n",
            "Counting objects:   4% (1/23)\rCounting objects:   8% (2/23)\rCounting objects:  13% (3/23)\rCounting objects:  17% (4/23)\rCounting objects:  21% (5/23)\rCounting objects:  26% (6/23)\rCounting objects:  30% (7/23)\rCounting objects:  34% (8/23)\rCounting objects:  39% (9/23)\rCounting objects:  43% (10/23)\rCounting objects:  47% (11/23)\rCounting objects:  52% (12/23)\rCounting objects:  56% (13/23)\rCounting objects:  60% (14/23)\rCounting objects:  65% (15/23)\rCounting objects:  69% (16/23)\rCounting objects:  73% (17/23)\rCounting objects:  78% (18/23)\rCounting objects:  82% (19/23)\rCounting objects:  86% (20/23)\rCounting objects:  91% (21/23)\rCounting objects:  95% (22/23)\rCounting objects: 100% (23/23)\rCounting objects: 100% (23/23), done.\n",
            "Delta compression using up to 2 threads\n",
            "Compressing objects: 100% (13/13), done.\n",
            "Writing objects: 100% (16/16), 58.26 MiB | 6.94 MiB/s, done.\n",
            "Total 16 (delta 1), reused 0 (delta 0)\n",
            "remote: Resolving deltas: 100% (1/1), completed with 1 local object.\u001b[K\n",
            "remote: \u001b[1;33mwarning\u001b[m: See https://gh.io/lfs for more information.\u001b[K\n",
            "remote: \u001b[1;33mwarning\u001b[m: File Face_Generation/Code/Advanced_GAN.ipynb is 51.73 MB; this is larger than GitHub's recommended maximum file size of 50.00 MB\u001b[K\n",
            "remote: \u001b[1;33mwarning\u001b[m: GH001: Large files detected. You may want to try Git Large File Storage - https://git-lfs.github.com.\u001b[K\n",
            "To https://github.com/Rajaguhan437/AI-Generation_SEGmnt.git\n",
            "   5e58e81..f7b0364  main -> main\n"
          ]
        }
      ]
    },
    {
      "cell_type": "code",
      "source": [
        "!ls -la /content/drive/MyDrive/Colab\\ Notebooks/AI-Generation_SEGmnt/.git/refs/heads/\n",
        "!rm -f /content/drive/MyDrive/Colab\\ Notebooks/AI-Generation_SEGmnt/.git/refs/heads/main.lock\n",
        "!rm -f /content/drive/MyDrive/Colab\\ Notebooks/AI-Generation_SEGmnt/.git/refs/heads/index.lock\n",
        "\n",
        "# use this if head is locked , here we remove the identify and reomve the head file"
      ],
      "metadata": {
        "colab": {
          "base_uri": "https://localhost:8080/"
        },
        "id": "spa3wOdIUHkL",
        "outputId": "02c2580c-fcce-4ed4-a50b-099f45874a38"
      },
      "execution_count": null,
      "outputs": [
        {
          "output_type": "stream",
          "name": "stdout",
          "text": [
            "total 1\n",
            "-rw------- 1 root root 41 Jun  6 01:43 main\n"
          ]
        }
      ]
    },
    {
      "cell_type": "code",
      "source": [
        "!git pull"
      ],
      "metadata": {
        "id": "iahfxr8tHLla",
        "colab": {
          "base_uri": "https://localhost:8080/"
        },
        "outputId": "42284576-984a-4748-ece1-be71f91a353d"
      },
      "execution_count": 48,
      "outputs": [
        {
          "output_type": "stream",
          "name": "stdout",
          "text": [
            "remote: Enumerating objects: 8, done.\u001b[K\n",
            "remote: Counting objects:  12% (1/8)\u001b[K\rremote: Counting objects:  25% (2/8)\u001b[K\rremote: Counting objects:  37% (3/8)\u001b[K\rremote: Counting objects:  50% (4/8)\u001b[K\rremote: Counting objects:  62% (5/8)\u001b[K\rremote: Counting objects:  75% (6/8)\u001b[K\rremote: Counting objects:  87% (7/8)\u001b[K\rremote: Counting objects: 100% (8/8)\u001b[K\rremote: Counting objects: 100% (8/8), done.\u001b[K\n",
            "remote: Compressing objects:  12% (1/8)\u001b[K\rremote: Compressing objects:  25% (2/8)\u001b[K\rremote: Compressing objects:  37% (3/8)\u001b[K\rremote: Compressing objects:  50% (4/8)\u001b[K\rremote: Compressing objects:  62% (5/8)\u001b[K\rremote: Compressing objects:  75% (6/8)\u001b[K\rremote: Compressing objects:  87% (7/8)\u001b[K\rremote: Compressing objects: 100% (8/8)\u001b[K\rremote: Compressing objects: 100% (8/8), done.\u001b[K\n",
            "remote: Total 8 (delta 2), reused 0 (delta 0), pack-reused 0\u001b[K\n",
            "Unpacking objects:  12% (1/8)\rUnpacking objects:  25% (2/8)\rUnpacking objects:  37% (3/8)\rUnpacking objects:  50% (4/8)\rUnpacking objects:  62% (5/8)\rUnpacking objects:  75% (6/8)\rUnpacking objects:  87% (7/8)\rUnpacking objects: 100% (8/8)\rUnpacking objects: 100% (8/8), 1.69 KiB | 19.00 KiB/s, done.\n",
            "From https://github.com/Rajaguhan437/AI-Generation_SEGmnt\n",
            "   f7b0364..b50006c  main       -> origin/main\n",
            "Updating f7b0364..b50006c\n",
            "Fast-forward\n",
            " Num_Generation/Model/NUM-Discriminator.pkl | Bin \u001b[31m8435845\u001b[m -> \u001b[32m0\u001b[m bytes\n",
            " Num_Generation/Model/NUM-Generator.pkl     | Bin \u001b[31m58684171\u001b[m -> \u001b[32m0\u001b[m bytes\n",
            " 2 files changed, 0 insertions(+), 0 deletions(-)\n",
            " delete mode 100644 Num_Generation/Model/NUM-Discriminator.pkl\n",
            " delete mode 100644 Num_Generation/Model/NUM-Generator.pkl\n"
          ]
        }
      ]
    },
    {
      "cell_type": "code",
      "source": [],
      "metadata": {
        "id": "wlsBzQXxJAf-"
      },
      "execution_count": null,
      "outputs": []
    }
  ]
}